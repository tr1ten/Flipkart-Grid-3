{
 "cells": [
  {
   "cell_type": "markdown",
   "metadata": {},
   "source": [
    "## Hybrid Recommendation Algorithm\n",
    "### Existing User\n",
    "#### Collaborative Filtering: \n",
    "Save user actions such as purchasing history, browsing history and generate interaction matrix for collaborative filtering algorithm, then recommend items to users based on their similarity with other users.\n",
    "\n",
    "### New User\n",
    "#### Content-Based Filtering:\n",
    "Ask user for basic demographic information and recommend items based on their similarity with other items.\n",
    "Item features such as price, cluster (category) also included in the recommendation algorithm.\n"
   ]
  },
  {
   "cell_type": "code",
   "execution_count": 61,
   "metadata": {},
   "outputs": [],
   "source": [
    "import pandas as pd\n",
    "from lightfm.data import Dataset\n",
    "from lightfm import LightFM\n",
    "from lightfm.evaluation import auc_score, precision_at_k, recall_at_k\n",
    "import numpy as np\n",
    "from scipy import sparse\n",
    "from lightfm import LightFM\n",
    "from sklearn.base import clone\n"
   ]
  },
  {
   "cell_type": "code",
   "execution_count": 62,
   "metadata": {},
   "outputs": [],
   "source": [
    "# Accomodate new users, items into old model\n",
    "# credits: https://github.com/lyst/lightfm/issues/347#issuecomment-707829342\n",
    "class LightFMResizable(LightFM):\n",
    "    \"\"\"A LightFM that resizes the model to accomodate new users,\n",
    "    items, and features\"\"\"\n",
    "\n",
    "    def fit_partial(\n",
    "        self,\n",
    "        interactions,\n",
    "        user_features=None,\n",
    "        item_features=None,\n",
    "        sample_weight=None,\n",
    "        epochs=1,\n",
    "        num_threads=1,\n",
    "        verbose=False,\n",
    "    ):\n",
    "        try:\n",
    "            self._check_initialized()\n",
    "            self._resize(interactions, user_features, item_features)\n",
    "        except ValueError:\n",
    "            # This is the first call so just fit without resizing\n",
    "            pass\n",
    "\n",
    "        super().fit_partial(\n",
    "            interactions,\n",
    "            user_features,\n",
    "            item_features,\n",
    "            sample_weight,\n",
    "            epochs,\n",
    "            num_threads,\n",
    "            verbose,\n",
    "        )\n",
    "\n",
    "        return self\n",
    "\n",
    "    def _resize(self, interactions, user_features=None, item_features=None):\n",
    "        \"\"\"Resizes the model to accommodate new users/items/features\"\"\"\n",
    "\n",
    "        no_components = self.no_components\n",
    "        no_user_features, no_item_features = interactions.shape  # default\n",
    "\n",
    "        if hasattr(user_features, \"shape\"):\n",
    "            no_user_features = user_features.shape[-1]\n",
    "        if hasattr(item_features, \"shape\"):\n",
    "            no_item_features = item_features.shape[-1]\n",
    "\n",
    "        if (\n",
    "            no_user_features == self.user_embeddings.shape[0]\n",
    "            and no_item_features == self.item_embeddings.shape[0]\n",
    "        ):\n",
    "            return self\n",
    "\n",
    "        new_model = clone(self)\n",
    "        new_model._initialize(no_components, no_item_features, no_user_features)\n",
    "\n",
    "        # update all attributes from self._check_initialized\n",
    "        for attr in (\n",
    "            \"item_embeddings\",\n",
    "            \"item_embedding_gradients\",\n",
    "            \"item_embedding_momentum\",\n",
    "            \"item_biases\",\n",
    "            \"item_bias_gradients\",\n",
    "            \"item_bias_momentum\",\n",
    "            \"user_embeddings\",\n",
    "            \"user_embedding_gradients\",\n",
    "            \"user_embedding_momentum\",\n",
    "            \"user_biases\",\n",
    "            \"user_bias_gradients\",\n",
    "            \"user_bias_momentum\",\n",
    "        ):\n",
    "            # extend attribute matrices with new rows/cols from\n",
    "            # freshly initialized model with right shape\n",
    "            old_array = getattr(self, attr)\n",
    "            old_slice = [slice(None, i) for i in old_array.shape]\n",
    "            new_array = getattr(new_model, attr)\n",
    "            new_array[tuple(old_slice)] = old_array\n",
    "            setattr(self, attr, new_array)\n",
    "\n",
    "        return self"
   ]
  },
  {
   "cell_type": "code",
   "execution_count": 63,
   "metadata": {},
   "outputs": [
    {
     "data": {
      "text/plain": [
       "ProductTitle    object\n",
       "Image           object\n",
       "Price            int64\n",
       "cluster          int64\n",
       "dtype: object"
      ]
     },
     "execution_count": 63,
     "metadata": {},
     "output_type": "execute_result"
    }
   ],
   "source": [
    "df = pd.read_csv('data.csv',index_col=0)\n",
    "df.dtypes"
   ]
  },
  {
   "cell_type": "code",
   "execution_count": 64,
   "metadata": {},
   "outputs": [],
   "source": [
    "def get_user_features():\n",
    "    user_feaures = ['sex:M','sex:F','sex:P']\n",
    "    for i in range(100): user_feaures.append(\"age:\"+str(i))\n",
    "    return user_feaures\n",
    "# dummy user for testing purposes\n",
    "users = [\n",
    "    {\n",
    "    'id': 1,\n",
    "    'age': 19,\n",
    "    'sex': 'F',\n",
    "    },\n",
    "     {\n",
    "    'id': 2,\n",
    "    'age': 40,\n",
    "    'sex': 'M',\n",
    "    },   \n",
    "]\n",
    "def get_item_features():\n",
    "    item_features = []\n",
    "    for i in df['cluster'].unique(): item_features.append(\"cluster:\"+str(i))\n",
    "    for p in df['Price'].unique(): item_features.append(\"price:\"+str(int(p)))\n",
    "    return item_features\n",
    "dummy_user_interaction = [(1,0,2)]"
   ]
  },
  {
   "cell_type": "markdown",
   "metadata": {},
   "source": [
    "#### Generate Dataset for Model"
   ]
  },
  {
   "cell_type": "code",
   "execution_count": 65,
   "metadata": {},
   "outputs": [],
   "source": [
    "dataset = Dataset()\n",
    "user_features = get_user_features()\n",
    "item_features = get_item_features()\n",
    "dataset.fit([x['id'] for x in users],df.index,user_features=user_features,item_features=item_features)"
   ]
  },
  {
   "cell_type": "code",
   "execution_count": 66,
   "metadata": {},
   "outputs": [
    {
     "data": {
      "text/plain": [
       "(2, 477893)"
      ]
     },
     "execution_count": 66,
     "metadata": {},
     "output_type": "execute_result"
    }
   ],
   "source": [
    "n_users, n_items = dataset.interactions_shape()\n",
    "n_users, n_items"
   ]
  },
  {
   "cell_type": "code",
   "execution_count": 67,
   "metadata": {},
   "outputs": [],
   "source": [
    "user_id_map, user_feature_map, item_id_map, item_feature_map = dataset.mapping()"
   ]
  },
  {
   "cell_type": "code",
   "execution_count": 68,
   "metadata": {},
   "outputs": [],
   "source": [
    "def get_user_interaction(userId:int,it=dict()):\n",
    "    ret = []\n",
    "    for x in df.index:\n",
    "        if x in it:\n",
    "            ret.append((userId,x,it[x]))\n",
    "        else: \n",
    "            ret.append((userId,x,0))\n",
    "    return ret\n",
    "def gen_user_feature(user:object):\n",
    "    feat = []\n",
    "    for x in user:\n",
    "        if x=='id': continue\n",
    "        feat.append(x + ':' + str(user[x]))\n",
    "    return (user['id'],feat)\n",
    "def gen_item_feature(id,item:object):\n",
    "    try:\n",
    "\n",
    "        return [id,['cluster:'+str(item['cluster']),'price:'+str(int(item['Price']))]]\n",
    "    except Exception as e:\n",
    "        print(\" erro in \",id,item)\n",
    "        raise(e)"
   ]
  },
  {
   "cell_type": "code",
   "execution_count": 69,
   "metadata": {},
   "outputs": [],
   "source": [
    "(interactions, weights) = dataset.build_interactions(dummy_user_interaction)"
   ]
  },
  {
   "cell_type": "code",
   "execution_count": 70,
   "metadata": {},
   "outputs": [],
   "source": [
    "nfs = [ gen_user_feature(users[0]),gen_user_feature(users[1]) ]\n",
    "ufs = dataset.build_user_features( nfs )"
   ]
  },
  {
   "cell_type": "code",
   "execution_count": 71,
   "metadata": {},
   "outputs": [],
   "source": [
    "feats = []\n",
    "for x in df.index:\n",
    "    feats.append(gen_item_feature(x,df.loc[x]))\n",
    "ifs = dataset.build_item_features(feats)\n",
    "# get row \n",
    "# [(x,['cluster:'+str(df.loc[x]['cluster'])]) for x in df.index]"
   ]
  },
  {
   "cell_type": "code",
   "execution_count": 72,
   "metadata": {},
   "outputs": [],
   "source": [
    "user_id_map, user_feature_map, item_id_map, item_feature_map = dataset.mapping()\n",
    "id_item_map = dict(((x,y) for y,x in item_id_map.items()))\n",
    "# user_feature_map"
   ]
  },
  {
   "cell_type": "markdown",
   "metadata": {},
   "source": [
    "#### Train Model"
   ]
  },
  {
   "cell_type": "code",
   "execution_count": 73,
   "metadata": {},
   "outputs": [
    {
     "data": {
      "text/plain": [
       "<__main__.LightFMResizable at 0x7f3b0e9ea2e0>"
      ]
     },
     "execution_count": 73,
     "metadata": {},
     "output_type": "execute_result"
    }
   ],
   "source": [
    "model = LightFMResizable(loss='warp')\n",
    "model.fit(interactions,user_features=ufs,item_features=ifs,sample_weight=weights)"
   ]
  },
  {
   "cell_type": "markdown",
   "metadata": {},
   "source": [
    "#### Predict"
   ]
  },
  {
   "cell_type": "code",
   "execution_count": 74,
   "metadata": {},
   "outputs": [],
   "source": [
    "# helper function to add and update user model\n",
    "# add interaction data for old users\n",
    "LIMIT = 10000\n",
    "all_items = np.arange(LIMIT)\n",
    "def update_user(user_id, item_id, count):\n",
    "    (new_interactions,new_wts) = dataset.build_interactions([(user_id, item_id, count)])\n",
    "    ufs = dataset.build_user_features(nfs)\n",
    "    model.fit_partial(new_interactions,user_features=ufs,item_features=ifs, sample_weight=new_wts)\n",
    "# add interaction data for new users\n",
    "def add_user(user):\n",
    "    global nfs\n",
    "    dataset.fit_partial(users=[user['id']])\n",
    "    nfs += ([ gen_user_feature(user) ])\n",
    "def get_item(id):\n",
    "    return df.loc[id]\n",
    "# get recommendation for existing user\n",
    "def recommend(userId):\n",
    "    y = model.predict(userId,all_items)\n",
    "    return [get_item(id_item_map[x]) for x in np.argsort(-y)] [:4]\n",
    "    # return np.argsort(-y)[:4]\n",
    "# get recommendation for new user who has not interacted with any item\n",
    "def format_newuser_input(user_feature_map, user_feature_list):\n",
    "  normalised_val = 1.0 \n",
    "  target_indices = []\n",
    "  for feature in user_feature_list:\n",
    "    try:\n",
    "        target_indices.append(user_feature_map[feature])\n",
    "    except KeyError:\n",
    "        print(\"new user feature encountered '{}'\".format(feature))\n",
    "        pass\n",
    "\n",
    "  new_user_features = np.zeros(len(user_feature_map.keys()))\n",
    "  for i in target_indices:\n",
    "    new_user_features[i] = normalised_val\n",
    "  new_user_features = sparse.csr_matrix(new_user_features)\n",
    "  return(new_user_features)\n",
    "def new_user_recommend(user):\n",
    "    new_user_features = gen_user_feature(user)[-1]\n",
    "    new_ufs = format_newuser_input(user_feature_map, new_user_features)\n",
    "    y = model.predict(0,np.arange(n_items),user_features=new_ufs)\n",
    "    return [get_item(id_item_map[x]) for x in np.argsort(-y)] [:4]\n",
    "    # return  np.argsort(y)[:4]\n",
    "\n",
    "    "
   ]
  },
  {
   "cell_type": "markdown",
   "metadata": {},
   "source": [
    "#### Performance Metric for Recommendation System"
   ]
  },
  {
   "cell_type": "markdown",
   "metadata": {},
   "source": [
    "Generate test and train based on the user type, then calculate the performance metric for recommendation system."
   ]
  },
  {
   "cell_type": "code",
   "execution_count": 75,
   "metadata": {},
   "outputs": [],
   "source": [
    "import random\n",
    "def gen_interaction(userId,ids):\n",
    "    ret = []\n",
    "    for id in random.sample(ids,20):\n",
    "        ret.append((userId,id,1))\n",
    "    return ret\n",
    "def gen_user(start,end,age,gender):\n",
    "    for i in range(start,end+1):\n",
    "        add_user({'id':i,'age':age,'sex':gender})\n",
    "    return list(range(start,end+1))"
   ]
  },
  {
   "cell_type": "code",
   "execution_count": 76,
   "metadata": {},
   "outputs": [],
   "source": [
    "male_train_ids = [453679,38061,53265,126759,374918,393513,452102,483388,484573,503464,8183,18431,19824,21974,25451,26354,28797,29912,30621,32804,58555,61183,68714,71165,129763,170781,171007,171638,172478,172899,175269,229622,235198,236116,238871,240714,240716,263936,296733,329742,329796,331363,331661,332846,334096,335316,336620,345662,359996,365562,393660,403206,438215,466607,479923,480442,481823,483245,483329,484265,484731,484841,484866,485696,486444,486806,487112,487259,487312,487554,488537,488596,489911,490294,490344,492681,493610,495097,496735,497063,502624,502748,502756,502786,502968,503044,503135,503388,503430,509969,509970,509981,542312,462919,2825,2946,4037,5142,6688,8426,183998,184015,304909,483357,485755,487766,490077,494975,495019,495384,546990,15764,19040,33164,33379,57620,58542,84951,124891,125119,125260,125633,157404,233896,234521,234800,235380,235389,236807,237370,237527,266669,330722,330737,332226,334021,336836,336973,396468,423791,480059,480148,482837,483272,483583,483654,485602,487082,487431,487522,487637,487696,487742,487770,488031,488098,488297,488769,490442,491994,492761,492825,492834,492955,493316,494574,494984,495029,495061,495117,495185,496408,498013,498095,547172,108205,131795,139065,1319,1935,2200,2791,2859,2911,3077,4048,4561,4808,5501,6356,6691,7369,7520,7598,8215,8237,8279,8286,8800,9029,104956,106623,107071,110957,113478,115244,115296,117896,118392,118719,120388,120691,121479,140821,381889,385584,385621,385703,388230,389139,390136,416758,417323,417949,418393,418597,418690,420074,420179,420487,420532,420610,420676,420689,420755,420983,421045,421308,421628,421876,422514,422717,422806,423174,424084,424091,424968,426363,426670,426930,427156,427618,428977,429000,430177,430479,430628,430770,431284,432253,432519,435444,479366,479624,479658,479694,479695,479701,479770,479950,479954,480041,480042,480134,480547,480906,481018,482057,483519,484215,485071,485211,487118,487511,487626,488484,489011,489987,490119,490138,490170,491137,491236,491276,491334,491778,492703,492932,493804,494937,82326,84759,84779,84923,329910,373522,155449,5232,12470,22381,24325,57979,76668,111890,123753,150381,153430,162566,231920,242693,262110,285115,311961,330762,338939,343372,370765,381325,394413,437662,475158,515043,1180,1629,2391,2859,2863,3330,3362,3371,4048,4990,5148,5343,5433,6023,6245,6432,6691,6829,8074,8195,8411,9319,9406,10482,12068,12277,13164,13188,13242,14610,15031,15134,16687,18792,20597,21493,21809,22295,22534,23017,23594,24809,33940,34689,34690,34691,34872,35739,36069,46126,56457,59259,66458,69040,77077,79087,80769,81182,84732,107952,114006,124228,124504,124592,130089,150218,154722,157591]\n",
    "male_test_ids =  [349413,503337,3744,6420,7795,8472,23455,267519,267842,267908,268011,268263,342192,344313,345380,345889,347751,856,2983,3863,3967,4018,4900,5054,6340,6820,6909,9093,23956,37115,37220,38272,38664,38681,40076,41586,41922,42123,43135,43198,43983,44392,44830,45615,46142,46709,46846,46878,48461,48584,48966,50073,52952,53024,53068,57788,79720,193271,267088,267107,267184,267201,267271,267308,267343,267361,267409,267520,267545,267644,267645,267680,267691,267758,267765,267777,267788,267813,267864,267934,267979,268066,268076,268112,268274,268276,338746,339975,341604,342283,342359,342396,343108,343229,344256,344609,344674,346381,347834,348508,6822,10245,28611,28650,38048,40091,47851,63467,74577,86210,86578,87666,97443,97580,98031,99023,99395,179640,181864,186871,186872,186873,186874,186875,190070,268225,344611,347268,349403,375296,448304,451695,455358,455809,456075,467472,468695,4495,5231,21489,21533,21658,23689,23774,24163,24349,25343,25491,25676,25713,25717,25789,25844,25860,26103,26218,26235,26808,27272,27328,27703,28085,28201,28371,28429,28691,30254,30331,30383,30427,30460,30519,30552,30680,30686,31203,31207,31211,31215,31231,36673,36695,36706,36724,36774,37419,37966,38184,38286,38480,39066,39108,39238,39419,39696,40005,40043,40549,40885,41086,13787,34480,82438,125935,400475,506415,5857,10838,27013,61028,63280,70944,74293,84925,110130,115483,149587,154919,192740,266524,290615,320021,343887,405067,502692,550119,12366,26354,29191,35254,46080,68483,129475,129993,153167,153168,165406,165619,194142,194719,204924,205150,235648,267683,270819,329796,331887,394567,405141,480442,487554,487653,488056,488262,503388,503430,503464,505964,505965,59692,183993,461497,1380,5110,7114,8340,9003,9168,11557,16797,18053,18350,19092,20050,24011,24901,25949,27087,36142,37164,39555,44974,49232,50441,52031,52055,61279,62165,62799,63103,64582,65473,67981,68134,69366,71312,72361,72626,73577,73619]\n",
    "\n",
    "female_train_ids = [29689,30059,329796,503415,17695,1407,2003,3020,6660,7660,7846,8515,9352,10432,11387,12344,14319,14371,15555,17894,18321,18358,21079,21353,22490,22945,23321,23349,23438,23591,23625,23632,23815,24719,24925,25268,25355,26424,26618,27055,28151,29175,29269,31133,32536,32545,33175,33735,33872,33875,33940,34501,34646,34852,34855,34864,34880,37205,37779,38916,39023,39249,39421,40539,49269,49275,49598,51155,51683,55626,55686,57289,57520,57611,57713,57910,57924,58087,58553,58807,59008,59385,59421,59485,59736,60990,61395,61462,65673,66107,67188,67201,70478,70890,71507,71605,71985,76682,77930,78560,58553,151555,160562,25555,57736,58276,113714,128196,164109,232003,242989,243040,243113,353755,371744,6332,22247,26846,42408,43717,43768,47875,48026,51418,57589,57686,57821,57884,58513,58528,58673,61783,72062,79737,106401,110253,117886,138552,147708,152526,153746,157179,162580,162626,164310,194228,194798,215530,217544,224312,227076,232404,243071,243376,243639,243642,265884,271954,344250,350082,361023,370902,370939,371034,371035,371052,371073,371096,371134,371183,371423,371424,371433,371434,371439,371442,371443,371444,371445,371447,371448,371449,371450,371452,371453,371459,371461,371463,371464,371465,371466,371467,371470,371472,371474,371476,371480,371481,371482,371483,148691,110633,116433,157073,221222,225120,357360,393938,530818,532742,536088,541490,22339,25968,26027,27292,27620,28207,28538,37260,39074,39314,39508,39700,40187,40346,40772,41033,41529,42029,42263,42415,43412,45491,46424,46852,46855,46983,47213,47360,47504,48002,48127,48280,48496,48671,48863,48896,49229,49799,49826,50252,50295,50364,50909,51084,51530,51634,51967,52027,52051,52671,52775,53064,53384,54317,54420,54541,54578,54899,54921,54991,55312,55368,55591,55762,55840,55933,56053,56226,56581,56744,56956,95632,101999,104239,104413,104446,104470,104942,104987,105177,105180,105289,105608,105823,105958,106191,106395,106448,152782,30593,31138,160646,329315,329352,152971,159838,162020,165619,322590,502668,164722,4138,32593,33293,34116,34408,53284,118677,149587,151449,151887,152252,152261,154919,156061,162553,165015,167848,220132,227603,232568,311120,327483,329844,329910,330337,331345,332774,333592,334965,336565,372345,376132,392071,392096,400019,400027,400033,403540,404463,415736,437218,475298,502692,502735,503017,503108,503250,549042,129440,8578,11063,24624,24878,33164,33179,33379,34264,46624,46648,49137,50396,50436,58158,70854,72856,78833,125548,126052,126469,126771,128180,128647,129586,129778,129783,158878,160700,162806,163349,166178,167424,171530,223240,231920,243201,249077,249322]\n",
    "female_test_ids = [115690,116768,118428,122359,134067,134666,134776,135169,138233,140405,140638,141189,141324,141463,141691,141934,142522,143609,145388,145522,146001,147970,148948,149335,158129,331776,415786,534184,544731,1951,2145,2349,2593,2612,3222,4221,4849,5182,5270,5362,6080,6573,6745,6831,6940,7954,7985,8028,8058,8240,8308,8567,8568,8571,9445,9615,10231,10390,11578,11613,11652,11807,11819,11940,12166,12333,12436,12486,12672,13105,13299,13380,13528,13707,14115,14132,14882,15136,15355,15574,16541,17304,17826,18248,18381,18543,18918,19350,19728,19943,22373,22603,22697,22835,23172,23349,23426,23527,24795,25843,502550,6691,8215,10432,16322,18447,23095,23934,24783,27469,31143,70303,71292,80637,84045,84205,84681,84774,85041,99165,114697,116309,118044,128541,128714,134281,134948,137671,138672,147676,152103,152910,153993,157544,159605,160112,160462,162070,166341,166628,166664,167194,171524,173246,188092,193837,232944,253815,253882,254621,259187,259842,261988,265710,267291,267328,267735,268067,268389,269102,312029,323505,327742,333005,344515,345685,349324,365653,369508,371086,372906,373792,381158,393823,438447,475566,502668,536741,796,838,860,935,1004,1064,1240,1396,1552,1935,2041,2132,2505,2622,2707,2859,2979,3077,3127,3153,3723,3762,150334,152039,152911,157233,158529,158899,158939,161566,163528,164068,27516,150125,153209,153335,154856,155023,155938,156794,156989,157514,158082,159248,159940,162595,162965,163426,163961,164094,164179,164305,164591,164681,164833,164839,165025,165267,166172,166189,166388,166652,166688,167630,167884,168109,168301,168419,311140,313342,316007,332391,377700,381392,549564,26613,26744,27007,27155,27604,27807,57866,149452,149482,149508,149556,149575,149592,149600,149604,149610,149702,149757,149768,149817,149845,149883,149918,149932,150068,150089,150111,150115,150175,150195,150210,150260,150290,150296,150462,150639,150751,150783,150861,150931,150949,150980,151012,151038,151094,151111,151118,332207,30703,154757,549042,28825,29175,112377,126132,27013,31027,104795,108220,115668,126429,226253,318628,332275,332858,333381,403048,416074,25865,34116,34408,53284,105487,106401,107952,110250,113715,120663,122407,126014,126988,152311,154722,155110,159811,159838,161517,161587,161694,171062,171153,220132,232568,239055,259057,259387,260093,261325,263927,321270,327874,329910,334264,372422,376355,385917,386478,389833,403540,404463,415736,502667,502668,503250,548791,5093,6529,7246,10231,19537,19824,20719,20733,20864,24937,25581,25785,28732,32299,32474,33179,34264,45812,45842,50396,50436,52499,53473,55017,58099,58487,62104,65685,66076,72550,74762,77370]\n"
   ]
  },
  {
   "cell_type": "code",
   "execution_count": 77,
   "metadata": {},
   "outputs": [],
   "source": [
    "# adding users\n",
    "AGE = 20\n",
    "cap = 30\n",
    "m_train_uids = gen_user(10,10+cap,AGE,'M')\n",
    "m_test_uids = gen_user(10+cap,10+2*cap,AGE,'M')\n",
    "f_train_uids = gen_user(10+2*cap,10+3*cap,AGE,'F')\n",
    "f_test_uids = gen_user(10+3*cap,10+4*cap,AGE,'F')\n"
   ]
  },
  {
   "cell_type": "code",
   "execution_count": 78,
   "metadata": {},
   "outputs": [],
   "source": [
    "train_it = []\n",
    "for g in ['M','F']:\n",
    "    for uid in (m_train_uids if g=='M' else f_train_uids):\n",
    "        train_it.extend(gen_interaction(uid,male_train_ids  if g=='M' else female_train_ids))\n",
    "test_it = []\n",
    "for g in ['M','F']:\n",
    "    for uid in (m_test_uids if g=='M' else f_test_uids):\n",
    "        test_it.extend(gen_interaction(uid,male_test_ids  if g=='M' else female_test_ids))\n"
   ]
  },
  {
   "cell_type": "code",
   "execution_count": 79,
   "metadata": {},
   "outputs": [],
   "source": [
    "train_interaction,train_wts = dataset.build_interactions(train_it)\n",
    "test_interaction,_ = dataset.build_interactions(test_it)"
   ]
  },
  {
   "cell_type": "code",
   "execution_count": 80,
   "metadata": {},
   "outputs": [
    {
     "data": {
      "text/plain": [
       "(123, 226)"
      ]
     },
     "execution_count": 80,
     "metadata": {},
     "output_type": "execute_result"
    }
   ],
   "source": [
    "ufs = dataset.build_user_features(nfs)\n",
    "ufs.todense().shape"
   ]
  },
  {
   "cell_type": "markdown",
   "metadata": {},
   "source": [
    "Evaluate the model performance based on the following metrics:\n",
    "- ROC AUC : Area Under the Receiver Operating Characteristic Curve (ROC AUC) from prediction scores.\n",
    "- Precision@k : Precision at k (P@k) metric computes the percentage of recommended items in the top-k list that are relevant to the user.\n",
    "- Recall@k : Recall at k (R@k) metric computes the percentage of relevant items that are recommended in the top-k list."
   ]
  },
  {
   "cell_type": "code",
   "execution_count": 83,
   "metadata": {},
   "outputs": [
    {
     "name": "stdout",
     "output_type": "stream",
     "text": [
      "Train AUC: 1.00\n",
      "Train AUC: 0.69\n"
     ]
    }
   ],
   "source": [
    "# auc\n",
    "model.fit(train_interaction,user_features=ufs,item_features=ifs,sample_weight=train_wts,epochs=10)\n",
    "train_auc = auc_score(model,train_interaction,user_features=ufs,item_features=ifs).mean()\n",
    "test_auc = auc_score(model,test_interaction,user_features=ufs,item_features=ifs).mean()\n",
    "print(\"Train AUC: %.2f\" % (train_auc))\n",
    "print(\"Train AUC: %.2f\" % (test_auc))"
   ]
  },
  {
   "cell_type": "code",
   "execution_count": 84,
   "metadata": {},
   "outputs": [
    {
     "name": "stdout",
     "output_type": "stream",
     "text": [
      "Train Precision @k 0.06451613\n",
      "Test Precision @k 0.0016129032\n"
     ]
    }
   ],
   "source": [
    "#precision@k\n",
    "train_precision = precision_at_k(model,train_interaction,user_features=ufs,item_features=ifs).mean()\n",
    "test_precision = precision_at_k(model,test_interaction,user_features=ufs,item_features=ifs).mean()\n",
    "print(\"Train Precision @k %.2f\" % train_precision);\n",
    "print(\"Test Precision @k%.2f\" % test_precision);\n"
   ]
  },
  {
   "cell_type": "code",
   "execution_count": 85,
   "metadata": {},
   "outputs": [
    {
     "name": "stdout",
     "output_type": "stream",
     "text": [
      "Train recall @k 0.03225806451612904\n",
      "Test recall @k 0.0008064516129032258\n"
     ]
    }
   ],
   "source": [
    "#recall@k\n",
    "train_recall = recall_at_k(model,train_interaction,user_features=ufs,item_features=ifs).mean()\n",
    "test_recall = recall_at_k(model,test_interaction,user_features=ufs,item_features=ifs).mean()\n",
    "print(\"Train recall @k %.2f\" % train_recall);\n",
    "print(\"Test recall @k %.2f\" % test_recall);"
   ]
  },
  {
   "cell_type": "markdown",
   "metadata": {},
   "source": [
    "#### Misc\n",
    "save data for server"
   ]
  },
  {
   "cell_type": "code",
   "execution_count": 138,
   "metadata": {},
   "outputs": [],
   "source": [
    "import pickle\n",
    "# pcickle both the model and the dataset\n",
    "# pickle.dump(model, open('model.pkl','wb'),protocol=pickle.HIGHEST_PROTOCOL)\n",
    "# pickle.dump(dataset, open('dataset.pkl','wb'),protocol=pickle.HIGHEST_PROTOCOL)\n",
    "# pickle.dump(nfs, open('nfs.pkl','wb'),protocol=pickle.HIGHEST_PROTOCOL)\n",
    "# pickle.dump(ifs, open('ifs.pkl','wb'),protocol=pickle.HIGHEST_PROTOCOL)\n",
    "# pickle.dump(user_feature_map, open('user_feature_map.pkl','wb'),protocol=pickle.HIGHEST_PROTOCOL)\n",
    "# pickle.dump(id_item_map, open('id_item_map.pkl','wb'),protocol=pickle.HIGHEST_PROTOCOL)\n"
   ]
  },
  {
   "cell_type": "code",
   "execution_count": null,
   "metadata": {},
   "outputs": [],
   "source": []
  },
  {
   "cell_type": "code",
   "execution_count": null,
   "metadata": {},
   "outputs": [],
   "source": []
  }
 ],
 "metadata": {
  "kernelspec": {
   "display_name": "Python 3",
   "language": "python",
   "name": "python3"
  },
  "language_info": {
   "codemirror_mode": {
    "name": "ipython",
    "version": 3
   },
   "file_extension": ".py",
   "mimetype": "text/x-python",
   "name": "python",
   "nbconvert_exporter": "python",
   "pygments_lexer": "ipython3",
   "version": "3.9.17"
  },
  "orig_nbformat": 4
 },
 "nbformat": 4,
 "nbformat_minor": 2
}
